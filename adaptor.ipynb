{
 "cells": [
  {
   "cell_type": "markdown",
   "metadata": {},
   "source": [
    "<div dir='rtl'>\n",
    "\n",
    "# الگوی طراحی Adapter\n",
    "الگوی طراحی Adapter یک الگوی ساختاری است که به شما امکان می‌دهد از یک کلاس با رابط ناسازگار استفاده کنید. این الگو با ایجاد یک لایه میانی (Adapter) بین دو رابط ناسازگار، آن‌ها را با هم سازگار می‌کند.\n",
    "Adapter یک رابط مشخص (Target Interface) را پیاده‌سازی می‌کند و درخواست‌های کلاینت را به رابط Adaptee تبدیل می‌کند. به این ترتیب، کلاینت می‌تواند با Adapter تعامل کند، بدون اینکه از رابط Adaptee آگاه باشد.\n",
    "\n",
    "## مثال پیاده‌سازی Adapter \n",
    "فرض کنید شما یک سرویس پیام‌رسانی قدیمی دارید که از رابط ارسال پیام‌های کوتاه (SMS) استفاده می‌کند. اما نیاز دارید این سرویس را با یک سیستم اعلان‌رسانی جدید که از رابط متفاوتی استفاده می‌کند، یکپارچه کنید. در اینجا می‌توانید از الگوی Adapter استفاده کنید:\n",
    "\n",
    "</div>"
   ]
  },
  {
   "cell_type": "code",
   "execution_count": 1,
   "metadata": {},
   "outputs": [
    {
     "name": "stdout",
     "output_type": "stream",
     "text": [
      "Sending modern notification: Hello, modern world!\n",
      "Sending SMS: Hello, legacy system!\n"
     ]
    }
   ],
   "source": [
    "class ModernNotificationService:\n",
    "    def send_notification(self, message):\n",
    "        print(f\"Sending modern notification: {message}\")\n",
    "\n",
    "class LegacySMSService:\n",
    "    def send_sms(self, text):\n",
    "        print(f\"Sending SMS: {text}\")\n",
    "\n",
    "class SMSAdapter(ModernNotificationService):\n",
    "    def __init__(self, legacy_sms_service):\n",
    "        self.legacy_sms_service = legacy_sms_service\n",
    "\n",
    "    def send_notification(self, message):\n",
    "        self.legacy_sms_service.send_sms(message)\n",
    "\n",
    "# کد کلاینت\n",
    "modern_notification = ModernNotificationService()\n",
    "legacy_sms = LegacySMSService()\n",
    "sms_adapter = SMSAdapter(legacy_sms)\n",
    "\n",
    "modern_notification.send_notification(\"Hello, modern world!\")  # خروجی: Sending modern notification: Hello, modern world!\n",
    "sms_adapter.send_notification(\"Hello, legacy system!\")  # خروجی: Sending SMS: Hello, legacy system!"
   ]
  },
  {
   "cell_type": "markdown",
   "metadata": {},
   "source": [
    "<div dir='rtl'>\n",
    "\n",
    "در این مثال:\n",
    "\n",
    "1. `ModernNotificationService` رابط جدید را تعریف می‌کند که کلاینت انتظار دارد با آن تعامل کند.\n",
    "2. `LegacySMSService` سرویس قدیمی است که رابط ناسازگار دارد.\n",
    "3. `SMSAdapter` رابط `ModernNotificationService` را پیاده‌سازی می‌کند و درخواست‌های `send_notification` را به `send_sms` در `LegacySMSService` تبدیل می‌کند.\n",
    "4. در کد کلاینت، `sms_adapter` به جای `legacy_sms` استفاده می‌شود، بنابراین کلاینت می‌تواند با رابط جدید تعامل کند.\n",
    "\n",
    "در مجموع، الگوی Adapter راه حل مناسبی برای یکپارچه‌سازی سیستم‌های ناسازگار است و به شما امکان می‌دهد از کلاس‌های موجود با رابط‌های متفاوت استفاده کنید\n",
    "\n",
    "</div>"
   ]
  }
 ],
 "metadata": {
  "kernelspec": {
   "display_name": "Python 3",
   "language": "python",
   "name": "python3"
  },
  "language_info": {
   "codemirror_mode": {
    "name": "ipython",
    "version": 3
   },
   "file_extension": ".py",
   "mimetype": "text/x-python",
   "name": "python",
   "nbconvert_exporter": "python",
   "pygments_lexer": "ipython3",
   "version": "3.10.14"
  }
 },
 "nbformat": 4,
 "nbformat_minor": 2
}
