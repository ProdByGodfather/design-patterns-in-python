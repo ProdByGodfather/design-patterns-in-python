{
 "cells": [
  {
   "cell_type": "markdown",
   "metadata": {},
   "source": [
    "<div dir='rtl'>\n",
    "\n",
    "# الگوی طراحی Builder\n",
    "**الگوی طراحی Builder** (سازنده) یک الگوی طراحی سازنده است که هدف آن جدا کردن ساخت یک شیء پیچیده از نمایش آن است. به این ترتیب، یک فرایند ساخت می‌تواند مراحل مختلفی داشته باشد بدون اینکه تأثیری بر نحوه نمایش شیء نهایی بگذارد. این الگو زمانی مفید است که یک شیء دارای بسیاری از پارامترهای اختیاری یا پیچیده باشد.\n",
    "\n",
    "## مثال در دنیای واقعی\n",
    "فرض کنید می‌خواهیم یک شیء `House` بسازیم. این شیء می‌تواند دارای ویژگی‌هایی مانند تعداد اتاق‌ها، تعداد پنجره‌ها، جنس دیوارها و غیره باشد. با استفاده از الگوی Builder می‌توانیم فرآیند ساخت یک خانه را مرحله به مرحله انجام دهیم.\n",
    "## پیاده‌سازی Python\n",
    "در اینجا مثالی از الگوی Builder در پایتون برای ساخت یک شیء `House` ارائه می‌شود:\n",
    "\n",
    "\n",
    "</div>"
   ]
  },
  {
   "cell_type": "code",
   "execution_count": 1,
   "metadata": {},
   "outputs": [
    {
     "name": "stdout",
     "output_type": "stream",
     "text": [
      "House with: 4 rooms, 10 windows, 2 doors, Garage: Yes, Swimming Pool: Yes\n"
     ]
    }
   ],
   "source": [
    "# شیء House که می‌خواهیم بسازیم\n",
    "class House:\n",
    "    def __init__(self):\n",
    "        self.rooms = None\n",
    "        self.windows = None\n",
    "        self.doors = None\n",
    "        self.garage = None\n",
    "        self.swimming_pool = None\n",
    "\n",
    "    def __str__(self):\n",
    "        return (f\"House with: {self.rooms} rooms, {self.windows} windows, \"\n",
    "                f\"{self.doors} doors, \"\n",
    "                f\"Garage: {'Yes' if self.garage else 'No'}, \"\n",
    "                f\"Swimming Pool: {'Yes' if self.swimming_pool else 'No'}\")\n",
    "\n",
    "# کلاس Builder\n",
    "class HouseBuilder:\n",
    "    def __init__(self):\n",
    "        self.house = House()\n",
    "\n",
    "    def set_rooms(self, number):\n",
    "        self.house.rooms = number\n",
    "        return self\n",
    "\n",
    "    def set_windows(self, number):\n",
    "        self.house.windows = number\n",
    "        return self\n",
    "\n",
    "    def set_doors(self, number):\n",
    "        self.house.doors = number\n",
    "        return self\n",
    "\n",
    "    def add_garage(self):\n",
    "        self.house.garage = True\n",
    "        return self\n",
    "\n",
    "    def add_swimming_pool(self):\n",
    "        self.house.swimming_pool = True\n",
    "        return self\n",
    "\n",
    "    def build(self):\n",
    "        return self.house\n",
    "\n",
    "# استفاده از Builder برای ساخت خانه\n",
    "builder = HouseBuilder()\n",
    "house = (builder.set_rooms(4)\n",
    "              .set_windows(10)\n",
    "              .set_doors(2)\n",
    "              .add_garage()\n",
    "              .add_swimming_pool()\n",
    "              .build())\n",
    "\n",
    "print(house)"
   ]
  },
  {
   "cell_type": "markdown",
   "metadata": {},
   "source": [
    "<div dir='rtl'>\n",
    "\n",
    "## توضیح کد:\n",
    "1. **کلاس House:** این کلاس نشان‌دهنده شیء پیچیده‌ای است که می‌خواهیم بسازیم. این شیء دارای چندین ویژگی مانند تعداد اتاق‌ها، تعداد پنجره‌ها و درها، و همچنین داشتن یا نداشتن پارکینگ و استخر است.\n",
    "\n",
    "2. **کلاس HouseBuilder:** این کلاس سازنده (Builder) است که مسئولیت ساخت شیء `House` را دارد. هر متد از این کلاس یکی از ویژگی‌های خانه را تنظیم می‌کند. در نهایت، متد `build()` شیء نهایی را برمی‌گرداند.\n",
    "\n",
    "3. **استفاده از Builder:** با استفاده از این کلاس، می‌توانیم شیء `House` را مرحله به مرحله بسازیم. با توجه به اینکه همه متدهای تنظیم‌کننده ویژگی‌ها شیء Builder را برمی‌گردانند، می‌توانیم از روش زنجیره‌ای (chaining) برای ساخت شیء استفاده کنیم.\n",
    "\n",
    "## مزایای استفاده از Builder\n",
    "- **انعطاف‌پذیری:** می‌توانیم بخش‌های مختلف شیء را مرحله به مرحله بسازیم و برخی قسمت‌ها را اختیاری قرار دهیم.\n",
    "- **قابلیت خوانایی:** کد نهایی با استفاده از این الگو به صورت واضح و خوانا درمی‌آید.\n",
    "- **کنترل بیشتر:** برای ساخت اشیاء پیچیده، می‌توانیم کنترل دقیقی روی هر یک از ویژگی‌های شیء داشته باشیم.\n",
    "\n",
    "### نتیجه:\n",
    "الگوی طراحی Builder به ما کمک می‌کند تا به روشی کارآمد و قابل خواندن، اشیاء پیچیده‌ای بسازیم، به‌خصوص زمانی که برخی ویژگی‌ها اختیاری هستند یا نیاز به سفارشی‌سازی دارند."
   ]
  }
 ],
 "metadata": {
  "kernelspec": {
   "display_name": "Python 3",
   "language": "python",
   "name": "python3"
  },
  "language_info": {
   "codemirror_mode": {
    "name": "ipython",
    "version": 3
   },
   "file_extension": ".py",
   "mimetype": "text/x-python",
   "name": "python",
   "nbconvert_exporter": "python",
   "pygments_lexer": "ipython3",
   "version": "3.10.14"
  }
 },
 "nbformat": 4,
 "nbformat_minor": 2
}
