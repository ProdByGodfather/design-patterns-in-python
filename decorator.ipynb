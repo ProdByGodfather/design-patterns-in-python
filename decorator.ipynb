{
 "cells": [
  {
   "cell_type": "markdown",
   "metadata": {},
   "source": [
    "<div dir='rtl'>\n",
    "\n",
    "# الگوی طراحی Decorator\n",
    "الگوی طراحی Decorator یک الگوی ساختاری است که به شما این امکان را می‌دهد تا به طور پویا رفتار یا ویژگی‌های جدیدی را به یک شیء اضافه کنید، بدون اینکه نیاز به تغییر در ساختار اصلی آن شیء داشته باشید. این الگو به شما اجازه می‌دهد تا با ترکیب دکوراتورهای مختلف، ویژگی‌های متنوعی را به اشیاء اضافه کنید.\n",
    "## مفهوم و کاربرد\n",
    "الگوی Decorator به شما این امکان را می‌دهد که:\n",
    "- رفتارهای اضافی را به اشیاء اضافه کنید.\n",
    "- از وراثت برای افزودن ویژگی‌های جدید استفاده نکنید، بلکه با ترکیب دکوراتورها این کار را انجام دهید.\n",
    "- قابلیت استفاده مجدد کد را افزایش دهید و از پیچیدگی‌های اضافی جلوگیری کنید.\n",
    "## مثال پیاده‌سازی Decorator در Python\n",
    "در این مثال، ما یک سیستم ساده برای تولید نوشیدنی‌ها خواهیم داشت و از الگوی Decorator برای افزودن طعم‌های مختلف به نوشیدنی‌ها استفاده خواهیم کرد.\n",
    "\n",
    "</div>"
   ]
  },
  {
   "cell_type": "code",
   "execution_count": 1,
   "metadata": {},
   "outputs": [
    {
     "name": "stdout",
     "output_type": "stream",
     "text": [
      "Cost of coffee: 5\n",
      "Cost of coffee with milk: 6\n",
      "Cost of coffee with milk and sugar: 6.5\n"
     ]
    }
   ],
   "source": [
    "class Beverage:\n",
    "    def cost(self):\n",
    "        return 0\n",
    "\n",
    "class Coffee(Beverage):\n",
    "    def cost(self):\n",
    "        return 5  # قیمت قهوه\n",
    "\n",
    "class Tea(Beverage):\n",
    "    def cost(self):\n",
    "        return 3  # قیمت چای\n",
    "\n",
    "class BeverageDecorator(Beverage):\n",
    "    def __init__(self, beverage):\n",
    "        self.beverage = beverage\n",
    "\n",
    "class MilkDecorator(BeverageDecorator):\n",
    "    def cost(self):\n",
    "        return self.beverage.cost() + 1  # افزودن هزینه شیر\n",
    "\n",
    "class SugarDecorator(BeverageDecorator):\n",
    "    def cost(self):\n",
    "        return self.beverage.cost() + 0.5  # افزودن هزینه شکر\n",
    "\n",
    "# نمونه‌سازی و استفاده\n",
    "coffee = Coffee()\n",
    "print(f\"Cost of coffee: {coffee.cost()}\")  # خروجی: Cost of coffee: 5\n",
    "\n",
    "# افزودن شیر به قهوه\n",
    "coffee_with_milk = MilkDecorator(coffee)\n",
    "print(f\"Cost of coffee with milk: {coffee_with_milk.cost()}\")  # خروجی: Cost of coffee with milk: 6\n",
    "\n",
    "# افزودن شکر به قهوه\n",
    "coffee_with_milk_and_sugar = SugarDecorator(coffee_with_milk)\n",
    "print(f\"Cost of coffee with milk and sugar: {coffee_with_milk_and_sugar.cost()}\")  # خروجی: Cost of coffee with milk and sugar: 6.5"
   ]
  },
  {
   "cell_type": "markdown",
   "metadata": {},
   "source": [
    "<div dir='rtl'>\n",
    "\n",
    "## توضیح کد\n",
    "1. کلاس `Beverage:` کلاس پایه که متد `cost` را تعریف می‌کند.\n",
    "2. کلاس‌های `Coffee` و `Tea:` کلاس‌هایی که نوشیدنی‌های خاص را پیاده‌سازی می‌کنند و هزینه آن‌ها را مشخص می‌کنند.\n",
    "3. کلاس `BeverageDecorator:` کلاس پایه برای دکوراتورها که یک شیء از نوع `Beverage` را دریافت می‌کند.\n",
    "4. کلاس‌های `MilkDecorator` و `SugarDecorator:` دکوراتورهایی که هزینه شیر و شکر را به هزینه نوشیدنی اضافه می‌کنند.\n",
    "\n",
    "## مزایای استفاده از الگوی Decorator\n",
    "- `افزایش انعطاف‌پذیری:` می‌توانید دکوراتورهای مختلف را به راحتی ترکیب کنید.\n",
    "- `کاهش پیچیدگی:` نیازی به ایجاد زیرکلاس‌های متعدد برای هر ترکیب از ویژگی‌ها نیست.\n",
    "- `قابلیت استفاده مجدد:` دکوراتورها می‌توانند در پروژه‌های مختلف مورد استفاده قرار گیرند.\n",
    "الگوی طراحی Decorator ابزاری قدرتمند برای افزودن ویژگی‌های جدید به اشیاء بدون تغییر در ساختار اصلی آن‌ها است و در بسیاری از سناریوهای برنامه‌نویسی مفید واقع می‌شود.\n",
    "\n",
    "</div>"
   ]
  }
 ],
 "metadata": {
  "kernelspec": {
   "display_name": "Python 3",
   "language": "python",
   "name": "python3"
  },
  "language_info": {
   "codemirror_mode": {
    "name": "ipython",
    "version": 3
   },
   "file_extension": ".py",
   "mimetype": "text/x-python",
   "name": "python",
   "nbconvert_exporter": "python",
   "pygments_lexer": "ipython3",
   "version": "3.10.14"
  }
 },
 "nbformat": 4,
 "nbformat_minor": 2
}
