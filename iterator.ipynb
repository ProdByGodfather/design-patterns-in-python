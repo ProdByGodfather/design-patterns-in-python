{
 "cells": [
  {
   "cell_type": "markdown",
   "metadata": {},
   "source": [
    "<div dir='rtl'>\n",
    "\n",
    "# الگوی طراحی Iterator\n",
    "الگوی طراحی Iterator یک الگوی رفتاری است که به شما امکان می‌دهد تا به صورت توالی و بدون نیاز به آشکارسازی ساختار داخلی، به عناصر یک مجموعه دسترسی پیدا کنید. این الگو، منطق پیمایش را از مجموعه جدا می‌کند و باعث انعطاف‌پذیری و قابلیت نگهداری بیشتر می‌شود.\n",
    "\n",
    "## ویژگی‌های اصلی الگوی Iterator\n",
    "- جداسازی نگرانی‌ها: الگوی Iterator منطق پیمایش مجموعه را از خود مجموعه جدا می‌کند، که امکان تغییر در هر یک را بدون تأثیر بر دیگری فراهم می‌کند.\n",
    "- کپسوله‌سازی: ساختار داخلی مجموعه از دید کلاینت پنهان می‌ماند و کپسوله‌سازی را ارتقا می‌دهد.\n",
    "- چندین پیمایشگر: می‌توان چندین پیمایشگر برای یک مجموعه ایجاد کرد، که امکان پیمایش همزمان بدون تداخل را فراهم می‌کند.\n",
    "\n",
    "## ساختار\n",
    "- ساختار اصلی الگوی Iterator شامل موارد زیر است:\n",
    "رابط Iterator: متدهایی برای پیمایش عناصر (مانند has_next()، next()) را تعریف می‌کند.\n",
    "- Iterator عینی: رابط Iterator را پیاده‌سازی می‌کند و موقعیت فعلی در پیمایش را ردیابی می‌کند.\n",
    "رابط Aggregate: متدی برای ایجاد یک پیمایشگر (مانند create_iterator()) را تعریف می‌کند.\n",
    "- Aggregate عینی: رابط Aggregate را پیاده‌سازی می‌کند و یک نمونه از Iterator عینی را ایجاد می‌کند.\n",
    "## مثال پیاده‌سازی در پایتون\n",
    "در اینجا مثالی ساده از الگوی Iterator با استفاده از مجموعه‌ای از اسامی آورده شده است:\n",
    "\n",
    "</div>"
   ]
  },
  {
   "cell_type": "code",
   "execution_count": 2,
   "metadata": {},
   "outputs": [
    {
     "name": "stdout",
     "output_type": "stream",
     "text": [
      "Godfather\n",
      "Dr\n",
      "Ahmed\n",
      "Kerim Agh Mangol\n"
     ]
    }
   ],
   "source": [
    "class Iterator:\n",
    "    def has_next(self):\n",
    "        pass\n",
    "\n",
    "    def next(self):\n",
    "        pass\n",
    "\n",
    "class NameIterator(Iterator):\n",
    "    def __init__(self, names):\n",
    "        self._names = names\n",
    "        self._index = 0\n",
    "\n",
    "    def has_next(self):\n",
    "        return self._index < len(self._names)\n",
    "\n",
    "    def next(self):\n",
    "        if self.has_next():\n",
    "            name = self._names[self._index]\n",
    "            self._index += 1\n",
    "            return name\n",
    "        else:\n",
    "            raise StopIteration()\n",
    "\n",
    "class NameRepository:\n",
    "    def __init__(self):\n",
    "        self._names = [\"Godfather\", \"Dr\", \"Ahmed\", \"Kerim Agh Mangol\"]\n",
    "\n",
    "    def get_iterator(self):\n",
    "        return NameIterator(self._names)\n",
    "\n",
    "# استفاده از الگوی Iterator\n",
    "name_repo = NameRepository()\n",
    "name_iterator = name_repo.get_iterator()\n",
    "\n",
    "while name_iterator.has_next():\n",
    "    print(name_iterator.next())"
   ]
  },
  {
   "cell_type": "markdown",
   "metadata": {},
   "source": [
    "<div dir='rtl'>\n",
    "\n",
    "## در این مثال:\n",
    "1. کلاس `Iterator` رابط پیمایشگر را تعریف می‌کند که متدهای `has_next()` و `next()` را شامل می‌شود.\n",
    "2. کلاس `NameIterator` از رابط `Iterator` پیروی می‌کند و پیاده‌سازی عینی آن را ارائه می‌دهد. این کلاس موقعیت فعلی در پیمایش را با استفاده از متغیر `_index` ردیابی می‌کند.\n",
    "3. کلاس `NameRepository` یک مجموعه از اسامی را نگه‌داری می‌کند و متد `get_iterator()` را برای ایجاد یک پیمایشگر عینی فراهم می‌کند.\n",
    "4. در بخش استفاده، یک شیء از `NameRepository` ایجاد می‌شود و متد `get_iterator()` برای دریافت یک نمونه از `NameIterator` فراخوانی می‌شود.\n",
    "5. سپس، یک حلقه `while` برای پیمایش عناصر با استفاده از متدهای `has_next()` و `next()` اجرا می‌شود.\n",
    "\n",
    "## مزایای استفاده از الگوی Iterator\n",
    "- انعطاف‌پذیری: امکان ایجاد و استفاده از پیمایشگرهای مختلف برای یک مجموعه وجود دارد.\n",
    "- کپسوله‌سازی: ساختار داخلی مجموعه پنهان می‌ماند و تنها رابط پیمایش در دسترس است.\n",
    "- قابلیت استفاده مجدد: پیمایشگرها می‌توانند در پروژه‌های مختلف مورد استفاده قرار گیرند.\n",
    "\n",
    "الگوی طراحی Iterator یک الگوی قدرتمند برای پیمایش توالی‌های عناصر است که به شما امکان می‌دهد بدون نیاز به آشکارسازی ساختار داخلی مجموعه، به عناصر آن دسترسی پیدا کنید.\n",
    "\n",
    "</div>"
   ]
  }
 ],
 "metadata": {
  "kernelspec": {
   "display_name": "Python 3",
   "language": "python",
   "name": "python3"
  },
  "language_info": {
   "codemirror_mode": {
    "name": "ipython",
    "version": 3
   },
   "file_extension": ".py",
   "mimetype": "text/x-python",
   "name": "python",
   "nbconvert_exporter": "python",
   "pygments_lexer": "ipython3",
   "version": "3.10.14"
  }
 },
 "nbformat": 4,
 "nbformat_minor": 2
}
