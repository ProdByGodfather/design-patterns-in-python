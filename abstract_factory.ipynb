{
 "cells": [
  {
   "cell_type": "markdown",
   "metadata": {},
   "source": [
    "<div dir='rtl'>\n",
    "\n",
    "# الگوی Abstract Factory\n",
    "الگوی Abstract Factory یک الگوی طراحی در دسته‌بندی الگوهای ایجاد (Creational) است که برای ساخت خانواده‌ای از اشیاء مرتبط یا وابسته بدون نیاز به مشخص کردن کلاس‌های دقیق آن‌ها به کار می‌رود. این الگو به ما اجازه می‌دهد تا اشیاء مرتبط با یکدیگر را به صورت مستقل از پیاده‌سازی‌های خاص آن‌ها ایجاد کنیم.\n",
    "\n",
    "در این الگو، ما یک اینترفیس یا کلاس انتزاعی تعریف می‌کنیم که برای هر نوع محصول (Product) یک کارخانه (Factory) ایجاد می‌کند. سپس کلاس‌های مشخصی (Concrete) این کارخانه‌ها را پیاده‌سازی می‌کنند و خانواده‌ای از اشیاء مرتبط را می‌سازند.\n",
    "\n",
    "## مثال ساده با پایتون\n",
    "فرض کنید که ما می‌خواهیم برنامه‌ای برای تولید خودروها و موتورسیکلت‌های دو شرکت متفاوت (مثلاً Toyota و BMW) بنویسیم. ما نیاز داریم که این دو شرکت محصولات خود را با یک روش مشابه تولید کنند.\n",
    "\n",
    "\n",
    "**مرحله 1: ایجاد کلاس‌های انتزاعی (Abstract Classes)**\n",
    "\n",
    "</div>"
   ]
  },
  {
   "cell_type": "code",
   "execution_count": null,
   "metadata": {},
   "outputs": [],
   "source": [
    "from abc import ABC, abstractmethod\n",
    "\n",
    "class Car(ABC):\n",
    "    @abstractmethod\n",
    "    def create(self) -> str:\n",
    "        pass\n",
    "    \n",
    "class MotorCycle(ABC):\n",
    "    @abstractmethod\n",
    "    def create(self) -> str:\n",
    "        pass\n",
    "\n",
    "class VehicleFactory(ABC):\n",
    "    @abstractmethod\n",
    "    def create_car(self) -> Car:\n",
    "        pass\n",
    "\n",
    "    @abstractmethod\n",
    "    def create_motorcycle(self) -> MotorCycle:\n",
    "        pass\n"
   ]
  },
  {
   "cell_type": "markdown",
   "metadata": {},
   "source": [
    "<div dir='rtl'>\n",
    "\n",
    "در این بخش `موتور سیکلت` و `ماشین` کلاس های انتزاعی هستند و نشان دهنده محصولات مختلف اند.\n",
    "`VehcleFactory` یک کارخانه انتزاعی است که مسئول تولید این محصولات است.\n",
    "\n",
    "\n",
    "**مرحله 2: ایجاد پیاده‌سازی‌های مشخص (Concrete Implementations)**\n",
    "</div>"
   ]
  },
  {
   "cell_type": "code",
   "execution_count": null,
   "metadata": {},
   "outputs": [],
   "source": [
    "# Toyota products\n",
    "class ToyotaCar(Car):\n",
    "    def create(self)-> str:\n",
    "        return \"Toyota Car Created\"\n",
    "\n",
    "class ToyotaMotorcycle(MotorCycle):\n",
    "    def create(self) -> str:\n",
    "        return \"Toyota Motorcycle Created\"\n",
    "\n",
    "# BMW products\n",
    "class BMWCar(Car):\n",
    "    def create(self) -> str:\n",
    "        return \"BMW Car Created\"\n",
    "    \n",
    "class BMWMotorcycle(MotorCycle):\n",
    "    def create(self) -> str:\n",
    "        return \"BMW Motorcycle Created\""
   ]
  },
  {
   "cell_type": "markdown",
   "metadata": {},
   "source": [
    "\n",
    "<div dir='rtl'>\n",
    "\n",
    " \n",
    "در این مرحله، برای هر شرکت **(Toyota و BMW)**، پیاده‌سازی‌های مشخصی از کلاس‌های `Car` و `Motorcycle` داریم.\n",
    "\n",
    "**مرحله 3: ایجاد کارخانه‌های مشخص (Concrete Factories)**\n",
    "\n",
    "</div>"
   ]
  },
  {
   "cell_type": "code",
   "execution_count": null,
   "metadata": {},
   "outputs": [],
   "source": [
    "\n",
    "class ToyotaFactory(VehicleFactory):\n",
    "    def create_car(self) -> Car:\n",
    "        return ToyotaCar()\n",
    "    \n",
    "    def create_motorcycle(self) -> MotorCycle:\n",
    "        return ToyotaMotorcycle()\n",
    "    \n",
    "class BMWFactory(VehicleFactory):\n",
    "    def create_car(self) -> Car:\n",
    "        return BMWCar()\n",
    "    def create_motorcycle(self) -> MotorCycle:\n",
    "        return BMWMotorcycle()\n"
   ]
  },
  {
   "cell_type": "markdown",
   "metadata": {},
   "source": [
    "<div dir='rtl'>\n",
    "\n",
    "در اینجا، هر شرکت کارخانه خاص خود را دارد که محصولات مرتبط با آن شرکت را تولید می‌کند.\n",
    "\n",
    "**مرحله 4: استفاده از الگوی Abstract Factory**\n",
    "\n",
    "</div>"
   ]
  },
  {
   "cell_type": "code",
   "execution_count": null,
   "metadata": {},
   "outputs": [],
   "source": [
    "def client_code(factory: VehicleFactory):\n",
    "    car = factory.create_car()\n",
    "    motorcycle = factory.create_motorcycle()\n",
    "    \n",
    "    print(car.create())\n",
    "    print(motorcycle.create())\n",
    "    \n",
    "print(\"Toyota Factory\")\n",
    "toyota_factory = ToyotaFactory()\n",
    "client_code(toyota_factory)\n",
    "\n",
    "print(\"\\nBMW Factory\")\n",
    "bmw_factory = BMWFactory()\n",
    "client_code(bmw_factory)\n"
   ]
  },
  {
   "cell_type": "markdown",
   "metadata": {},
   "source": [
    "<div dir='rtl'>\n",
    "\n",
    "## توضیح:\n",
    "- ما دو کارخانه مشخص `ToyotaFactory` و `BMWFactory` داریم که مسئول تولید محصولات خودرو و موتورسیکلت شرکت‌های Toyota و BMW هستند.\n",
    "- در کد کلاینت، با استفاده از کارخانه‌های مختلف می‌توانیم محصولات مرتبط با هر کارخانه را بدون نیاز به دانستن جزئیات دقیق آن‌ها ایجاد کنیم.\n",
    "- الگوی Abstract Factory به ما اجازه می‌دهد تا خانواده‌ای از اشیاء مرتبط را بدون وابستگی به پیاده‌سازی خاص آن‌ها تولید کنیم، که باعث کاهش وابستگی‌های بین کلاس‌ها و افزایش \n",
    "انعطاف‌پذیری می‌شود.\n",
    "\n",
    "</div>"
   ]
  }
 ],
 "metadata": {
  "language_info": {
   "name": "python"
  }
 },
 "nbformat": 4,
 "nbformat_minor": 2
}
