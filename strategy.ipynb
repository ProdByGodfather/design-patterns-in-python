{
 "cells": [
  {
   "cell_type": "markdown",
   "metadata": {},
   "source": [
    "<div dir='rtl'>\n",
    "\n",
    "# الگوی طراحی Strategy\n",
    "**الگوی طراحی Strategy** (استراتژی) یک الگوی طراحی رفتاری (Behavioral) است که به ما امکان می‌دهد یک خانواده از الگوریتم‌ها را تعریف کرده و آنها را به‌طور قابل تعویض استفاده کنیم. در این الگو، یک کلاس رفتارهای مختلف (یا استراتژی‌ها) را به عنوان اشیاء مجزا دریافت می‌کند و بدون اینکه تغییری در منطق کلاس ایجاد شود، می‌تواند یکی از آن‌ها را انتخاب و اجرا کند.\n",
    "\n",
    "الگوی Strategy به ما کمک می‌کند تا از شر شرط‌های متعدد (`if` یا `switch`) که بر اساس تغییر الگوریتم‌ها هستند، خلاص شویم و در عوض هر الگوریتم را به‌طور مستقل در قالب یک کلاس مجزا پیاده‌سازی کنیم.\n",
    "\n",
    "## پیاده‌سازی Python\n",
    "در اینجا مثالی از الگوی Strategy در پایتون برای محاسبه قیمت یک سفارش با استراتژی‌های تخفیف مختلف ارائه می‌شود:\n",
    "\n",
    "</div>"
   ]
  },
  {
   "cell_type": "code",
   "execution_count": 1,
   "metadata": {},
   "outputs": [
    {
     "name": "stdout",
     "output_type": "stream",
     "text": [
      "Order with no discount: 500\n",
      "Order with 10% discount: 450.0\n",
      "Order with fixed $50 discount: 450\n"
     ]
    }
   ],
   "source": [
    "# استراتژی اصلی (یک Interface)\n",
    "class DiscountStrategy:\n",
    "    def apply_discount(self, price):\n",
    "        raise NotImplementedError(\"Subclasses should implement this method\")\n",
    "\n",
    "# استراتژی تخفیف معمولی (بدون تخفیف)\n",
    "class NoDiscount(DiscountStrategy):\n",
    "    def apply_discount(self, price):\n",
    "        return price\n",
    "\n",
    "# استراتژی تخفیف ۱۰ درصدی\n",
    "class TenPercentDiscount(DiscountStrategy):\n",
    "    def apply_discount(self, price):\n",
    "        return price * 0.9\n",
    "\n",
    "# استراتژی تخفیف ثابت (مثلاً ۵۰ دلار تخفیف)\n",
    "class FixedDiscount(DiscountStrategy):\n",
    "    def __init__(self, discount_amount):\n",
    "        self.discount_amount = discount_amount\n",
    "\n",
    "    def apply_discount(self, price):\n",
    "        return max(0, price - self.discount_amount)\n",
    "\n",
    "# کلاس Context که از استراتژی‌های مختلف استفاده می‌کند\n",
    "class Order:\n",
    "    def __init__(self, price, discount_strategy: DiscountStrategy):\n",
    "        self.price = price\n",
    "        self.discount_strategy = discount_strategy\n",
    "\n",
    "    def get_final_price(self):\n",
    "        return self.discount_strategy.apply_discount(self.price)\n",
    "\n",
    "# استفاده از استراتژی‌های مختلف\n",
    "order1 = Order(500, NoDiscount())\n",
    "print(f\"Order with no discount: {order1.get_final_price()}\")\n",
    "\n",
    "order2 = Order(500, TenPercentDiscount())\n",
    "print(f\"Order with 10% discount: {order2.get_final_price()}\")\n",
    "\n",
    "order3 = Order(500, FixedDiscount(50))\n",
    "print(f\"Order with fixed $50 discount: {order3.get_final_price()}\")"
   ]
  },
  {
   "cell_type": "markdown",
   "metadata": {},
   "source": [
    "<div dir='rtl'>\n",
    "\n",
    "## توضیح کد:\n",
    "1. **کلاس DiscountStrategy:** این کلاس یک رابط (interface) برای تعریف انواع استراتژی‌های تخفیف است. هر استراتژی باید متد `apply_discount` را پیاده‌سازی کند.\n",
    "\n",
    "2. **استراتژی‌های تخفیف:** سه استراتژی مختلف داریم:\n",
    "\n",
    "- **NoDiscount:** تخفیفی اعمال نمی‌شود.\n",
    "- **TenPercentDiscount:** ۱۰ درصد تخفیف روی قیمت اعمال می‌شود.\n",
    "- **FixedDiscount:** مقدار مشخصی (در اینجا ۵۰ دلار) از قیمت کم می‌شود.\n",
    "3. **کلاس Order:** این کلاس نقش Context را دارد و از یک استراتژی تخفیف استفاده می‌کند. با استفاده از متد get_final_price، قیمت نهایی سفارش با تخفیف محاسبه و برگردانده می‌شود.\n",
    "\n",
    "4. **استفاده از استراتژی‌ها:** سه سفارش مختلف ایجاد کرده‌ایم که هر کدام از یک استراتژی متفاوت برای تخفیف استفاده می‌کنند.\n",
    "\n",
    "## نکات مهم:\n",
    "- انتخاب استراتژی در زمان اجرا: این الگو به ما اجازه می‌دهد تا الگوریتم‌های مختلف را بدون تغییر کلاس اصلی (مثلاً Order) در زمان اجرا انتخاب کنیم.\n",
    "- تفکیک منطق الگوریتم‌ها: هر الگوریتم به صورت مستقل در کلاس خود پیاده‌سازی می‌شود، که این کار باعث افزایش قابلیت نگهداری و انعطاف‌پذیری کد می‌شود.\n",
    "\n",
    "### مزایای استفاده از Strategy:\n",
    "- **جایگزینی آسان الگوریتم‌ها:** می‌توان به راحتی الگوریتم‌های مختلف را بدون تغییر در کلاس اصلی جایگزین کرد.\n",
    "- **تفکیک وظایف:** هر الگوریتم یا استراتژی در یک کلاس مجزا پیاده‌سازی می‌شود که باعث ساده‌سازی کد و افزایش خوانایی می‌شود.\n",
    "- **قابلیت گسترش‌پذیری:** با افزودن الگوریتم‌های جدید (کلاس‌های استراتژی جدید)، می‌توان بدون تغییر در ساختار اصلی برنامه، قابلیت‌های جدیدی اضافه کرد.\n",
    "\n",
    "### موارد استفاده:\n",
    "- پردازش‌های مختلف داده‌ها: زمانی که یک کلاس نیاز دارد تا روش‌های مختلفی برای پردازش داده‌ها (مانند مرتب‌سازی، فیلتر کردن یا اعتبارسنجی) را پیاده‌سازی کند.\n",
    "- محاسبات مالی: مثلاً در تخفیف‌های مختلف برای محاسبه قیمت نهایی یا مالیات‌های متفاوت در کشورهای مختلف.\n",
    "- بازی‌های رایانه‌ای: زمانی که شخصیت‌های مختلف بازی نیاز به رفتارهای مختلف دارند (مثل حرکت، حمله، یا دفاع).\n",
    "\n",
    "## نتیجه:\n",
    "الگوی طراحی Strategy به ما اجازه می‌دهد تا الگوریتم‌ها یا رفتارهای مختلف را به صورت مجزا پیاده‌سازی کنیم و در زمان اجرا بدون تغییر کلاس اصلی از الگوریتم‌های مختلف استفاده کنیم. این الگو منجر به کد تمیزتر، انعطاف‌پذیرتر و قابل نگهداری‌تر می‌شود.\n",
    "\n",
    "</div>"
   ]
  }
 ],
 "metadata": {
  "kernelspec": {
   "display_name": "Python 3",
   "language": "python",
   "name": "python3"
  },
  "language_info": {
   "codemirror_mode": {
    "name": "ipython",
    "version": 3
   },
   "file_extension": ".py",
   "mimetype": "text/x-python",
   "name": "python",
   "nbconvert_exporter": "python",
   "pygments_lexer": "ipython3",
   "version": "3.10.14"
  }
 },
 "nbformat": 4,
 "nbformat_minor": 2
}
