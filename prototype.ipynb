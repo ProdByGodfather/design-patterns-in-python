{
 "cells": [
  {
   "cell_type": "markdown",
   "metadata": {},
   "source": [
    "<div dir='rtl'>\n",
    "\n",
    "# الگوی طراحی Prototype\n",
    "\n",
    "**الگوی طراحی Prototype (نمونه اولیه)** یک الگوی سازنده است که هدف آن ایجاد اشیا با استفاده از کپی کردن (شبیه‌سازی) نمونه‌های اولیه به جای ساختن آن‌ها از ابتدا است. این الگو به ما اجازه می‌دهد تا بدون نیاز به فرآیند طولانی ساخت شیء، از یک شیء موجود کپی گرفته و آن را استفاده یا تغییر دهیم.\n",
    "\n",
    "این الگو زمانی مفید است که ساخت یک شیء پیچیده یا پرهزینه باشد و بخواهیم بدون از دست دادن عملکرد و ساختار، نمونه‌هایی سریع از آن تولید کنیم.\n",
    "\n",
    "## **مثال در دنیای واقعی**\n",
    "فرض کنید یک برنامه طراحی داریم و می‌خواهیم اشکال مختلفی (مانند دایره، مربع، مثلث) را بارها ایجاد کنیم. به جای اینکه هر بار اشیا را از ابتدا بسازیم، می‌توانیم یک نمونه از هر شکل ایجاد کرده و سپس آن‌ها را کپی کنیم.\n",
    "\n",
    "## **پیاده‌سازی مثال اول در پایتون**\n",
    "در اینجا مثالی از الگوی Prototype در پایتون ارائه شده است که از کپی کردن اشیا استفاده می‌کند:\n",
    "\n",
    "</div>"
   ]
  },
  {
   "cell_type": "code",
   "execution_count": 1,
   "metadata": {},
   "outputs": [
    {
     "name": "stdout",
     "output_type": "stream",
     "text": [
      "Circle with color Red\n",
      "Circle with color Blue\n",
      "Square with color Green\n",
      "Square with color Yellow\n"
     ]
    }
   ],
   "source": [
    "import copy\n",
    "\n",
    "# کلاس پایه که از آن اشیا ساخته می‌شوند\n",
    "class Shape:\n",
    "    def __init__(self, shape_type, color):\n",
    "        self.shape_type = shape_type\n",
    "        self.color = color\n",
    "\n",
    "    def clone(self):\n",
    "        return copy.deepcopy(self)\n",
    "\n",
    "    def __str__(self):\n",
    "        return f\"{self.shape_type} with color {self.color}\"\n",
    "\n",
    "# کلاس‌های فرزند برای اشکال مختلف\n",
    "class Circle(Shape):\n",
    "    def __init__(self, color):\n",
    "        super().__init__(\"Circle\", color)\n",
    "\n",
    "class Square(Shape):\n",
    "    def __init__(self, color):\n",
    "        super().__init__(\"Square\", color)\n",
    "\n",
    "# استفاده از الگوی Prototype\n",
    "circle1 = Circle(\"Red\")\n",
    "print(circle1)\n",
    "\n",
    "# کپی کردن شیء اولیه\n",
    "circle2 = circle1.clone()\n",
    "circle2.color = \"Blue\"  # تغییر رنگ در نمونه جدید\n",
    "print(circle2)\n",
    "\n",
    "# ساخت یک مربع و کپی از آن\n",
    "square1 = Square(\"Green\")\n",
    "print(square1)\n",
    "\n",
    "square2 = square1.clone()\n",
    "square2.color = \"Yellow\"  # تغییر رنگ در نمونه جدید\n",
    "print(square2)\n"
   ]
  },
  {
   "cell_type": "markdown",
   "metadata": {},
   "source": [
    "<div dir='rtl'>\n",
    "\n",
    "# پیاده‌سازی دوم در پایتون\n",
    "\n",
    "</div>"
   ]
  },
  {
   "cell_type": "code",
   "execution_count": 2,
   "metadata": {},
   "outputs": [
    {
     "name": "stdout",
     "output_type": "stream",
     "text": [
      "Original car: Car(Model: Sedan, Color: Red, Accessories: ['Air Conditioning', 'GPS'])\n",
      "Cloned car: Car(Model: Sedan, Color: Blue, Accessories: ['Air Conditioning', 'GPS', 'Sunroof'])\n",
      "Original car after clone modification: Car(Model: Sedan, Color: Red, Accessories: ['Air Conditioning', 'GPS'])\n"
     ]
    }
   ],
   "source": [
    "\n",
    "import copy\n",
    "\n",
    "# کلاس Car که قصد کلون کردن آن را داریم\n",
    "class Car:\n",
    "    def __init__(self, model, color, accessories):\n",
    "        self.model = model\n",
    "        self.color = color\n",
    "        self.accessories = accessories\n",
    "\n",
    "    def __str__(self):\n",
    "        return f\"Car(Model: {self.model}, Color: {self.color}, Accessories: {self.accessories})\"\n",
    "\n",
    "    # متد clone برای کپی کردن شیء\n",
    "    def clone(self):\n",
    "        # از متد deepcopy برای ایجاد یک کپی عمقی استفاده می‌کنیم\n",
    "        return copy.deepcopy(self)\n",
    "\n",
    "# استفاده از Prototype برای کلون کردن یک شیء\n",
    "car1 = Car(\"Sedan\", \"Red\", [\"Air Conditioning\", \"GPS\"])\n",
    "print(\"Original car:\", car1)\n",
    "\n",
    "# ایجاد یک کپی از car1\n",
    "car2 = car1.clone()\n",
    "\n",
    "# تغییر رنگ ماشین در کپی جدید\n",
    "car2.color = \"Blue\"\n",
    "car2.accessories.append(\"Sunroof\")\n",
    "\n",
    "print(\"Cloned car:\", car2)\n",
    "print(\"Original car after clone modification:\", car1)"
   ]
  },
  {
   "cell_type": "markdown",
   "metadata": {},
   "source": [
    "<div dir='rtl'>\n",
    "\n",
    "## توضیح کد:\n",
    "1. کلاس Car: این کلاس یک شیء ساده از نوع ماشین است که دارای مدل، رنگ و لیستی از امکانات است. ما قصد داریم از این کلاس نمونه‌های مشابه (کلون) ایجاد کنیم.\n",
    "\n",
    "2. متد clone: این متد از کتابخانه `copy` در پایتون استفاده می‌کند تا یک کپی عمقی (deep copy) از شیء `Car` ایجاد کند. با استفاده از `deepcopy` مطمئن می‌شویم که تمامی زیرمجموعه‌های شیء (مانند لیست امکانات) نیز به طور کامل کپی می‌شوند.\n",
    "\n",
    "3. ایجاد کپی از شیء: با استفاده از متد `clone()`، یک کپی کامل از شیء اصلی (`car1`) ایجاد می‌کنیم. سپس می‌توانیم ویژگی‌های این کپی را تغییر دهیم بدون اینکه شیء اصلی تغییر کند.\n",
    "\n",
    "## نکات مهم:\n",
    "**بهینه‌سازی زمان و منابع:** به جای اینکه هر بار شیء جدیدی از صفر بسازیم، به سرعت می‌توانیم نمونه‌های مشابه ایجاد کنیم.\n",
    "**سادگی کد:** ایجاد یک نمونه مشابه از یک شیء تنها با استفاده از یک متد ساده ممکن است.\n",
    "**انعطاف‌پذیری:** امکان تغییرات جزئی در کپی‌های جدید بدون تأثیر بر نمونه اصلی.\n",
    "\n",
    "## نتیجه:\n",
    "الگوی طراحی Prototype به ما کمک می‌کند تا به سادگی و با سرعت نمونه‌های مشابه از اشیاء پیچیده ایجاد کنیم. این الگو به ویژه زمانی که ساخت اشیاء زمان‌بر یا پرهزینه است بسیار کاربردی است.\n",
    "\n",
    "</div>"
   ]
  }
 ],
 "metadata": {
  "kernelspec": {
   "display_name": "Python 3",
   "language": "python",
   "name": "python3"
  },
  "language_info": {
   "codemirror_mode": {
    "name": "ipython",
    "version": 3
   },
   "file_extension": ".py",
   "mimetype": "text/x-python",
   "name": "python",
   "nbconvert_exporter": "python",
   "pygments_lexer": "ipython3",
   "version": "3.10.14"
  }
 },
 "nbformat": 4,
 "nbformat_minor": 2
}
