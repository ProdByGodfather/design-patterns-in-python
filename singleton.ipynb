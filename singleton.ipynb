{
 "cells": [
  {
   "cell_type": "markdown",
   "metadata": {},
   "source": [
    "<div dir='rtl'>\n",
    "\n",
    "# الگوی طراحی Singleton\n",
    "الگوی طراحی Singleton یک الگوی خلاقانه است که اطمینان می‌دهد تنها یک نمونه از یک کلاس وجود دارد و یک نقطه دسترسی جهانی به آن نمونه فراهم می‌کند. این الگو معمولاً در مواقعی استفاده می‌شود که نیاز به کنترل دسترسی به منابع مشترک وجود دارد، مانند اتصال به پایگاه داده یا مدیریت تنظیمات.\n",
    "\n",
    "## ویژگی‌های الگوی Singleton\n",
    "1. `تنها یک نمونه:` این الگو تضمین می‌کند که تنها یک شیء از کلاس ایجاد می‌شود.\n",
    "2. `دسترسی جهانی:` از طریق یک متد استاتیک، می‌توان به نمونه موجود دسترسی پیدا کرد.\n",
    "3. `مخفی کردن سازنده:` سازنده کلاس باید خصوصی باشد تا از ایجاد نمونه‌های اضافی جلوگیری شود.\n",
    "\n",
    "## مثال پیاده‌سازی Singleton در Python\n",
    "در این مثال، ما یک کلاس برای مدیریت اتصال به پایگاه داده ایجاد خواهیم کرد که از الگوی Singleton استفاده می‌کند:\n",
    "\n",
    "</div>"
   ]
  },
  {
   "cell_type": "code",
   "execution_count": 1,
   "metadata": {},
   "outputs": [
    {
     "name": "stdout",
     "output_type": "stream",
     "text": [
      "Database Connection Established\n",
      "Database Connection Established\n",
      "True\n"
     ]
    }
   ],
   "source": [
    "class DatabaseConnection:\n",
    "    _instance = None\n",
    "\n",
    "    def __new__(cls):\n",
    "        if cls._instance is None:\n",
    "            cls._instance = super(DatabaseConnection, cls).__new__(cls)\n",
    "            # اینجا می‌توانیم کدهای مربوط به اتصال به پایگاه داده را قرار دهیم\n",
    "            cls._instance.connection = \"Database Connection Established\"\n",
    "        return cls._instance\n",
    "\n",
    "# استفاده از کلاس Singleton\n",
    "db1 = DatabaseConnection()\n",
    "print(db1.connection)  # خروجی: Database Connection Established\n",
    "\n",
    "db2 = DatabaseConnection()\n",
    "print(db2.connection)  # خروجی: Database Connection Established\n",
    "\n",
    "# بررسی اینکه آیا db1 و db2 همان نمونه هستند\n",
    "print(db1 is db2)  # خروجی: True"
   ]
  },
  {
   "cell_type": "markdown",
   "metadata": {},
   "source": [
    "<div dir='rtl'>\n",
    "\n",
    "## توضیح کد\n",
    "1. کلاس `DatabaseConnection`: این کلاس دارای یک متغیر ساکن `_instance` است که تنها یک نمونه از کلاس را نگه‌داری می‌کند.\n",
    "2. متد `__new__`: این متد برای کنترل ایجاد نمونه‌ها استفاده می‌شود. اگر `_instance` موجود نباشد، یک نمونه جدید ایجاد می‌شود و در غیر این صورت، همان نمونه قبلی بازگردانده می‌شود.\n",
    "3. استفاده از کلاس: با ایجاد دو شیء db1 و db2 از کلاس DatabaseConnection، مشاهده می‌کنیم که هر دو شیء به یک اتصال پایگاه داده اشاره می‌کنند.\n",
    "\n",
    "## مزایای استفاده از الگوی Singleton\n",
    "- کاهش مصرف منابع: با جلوگیری از ایجاد چندین شیء، مصرف حافظه کاهش می‌یابد.\n",
    "- مدیریت مرکزی: امکان مدیریت بهتر منابع مشترک مانند پایگاه داده یا فایل‌ها را فراهم می‌کند.\n",
    "- ساده‌سازی کد: با ارائه یک نقطه دسترسی جهانی، نیاز به گذراندن شیء بین توابع و کلاس‌ها کاهش می‌یابد.\n",
    "الگوی Singleton یکی از الگوهای پرکاربرد در برنامه‌نویسی است که در مواقع خاصی که نیاز به کنترل دقیق بر روی تعداد نمونه‌های ایجاد شده وجود دارد، بسیار مفید واقع می‌شود.\n",
    "\n",
    "</div>"
   ]
  }
 ],
 "metadata": {
  "kernelspec": {
   "display_name": "Python 3",
   "language": "python",
   "name": "python3"
  },
  "language_info": {
   "codemirror_mode": {
    "name": "ipython",
    "version": 3
   },
   "file_extension": ".py",
   "mimetype": "text/x-python",
   "name": "python",
   "nbconvert_exporter": "python",
   "pygments_lexer": "ipython3",
   "version": "3.10.14"
  }
 },
 "nbformat": 4,
 "nbformat_minor": 2
}
